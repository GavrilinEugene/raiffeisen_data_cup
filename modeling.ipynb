{
 "cells": [
  {
   "cell_type": "code",
   "execution_count": 177,
   "metadata": {},
   "outputs": [],
   "source": [
    "import xgboost as xgb\n",
    "import pandas as pd\n",
    "import numpy as np\n",
    "from sklearn.model_selection import GroupKFold\n",
    "\n",
    "\n",
    "import warnings\n",
    "warnings.filterwarnings('ignore')"
   ]
  },
  {
   "cell_type": "code",
   "execution_count": 178,
   "metadata": {
    "collapsed": true
   },
   "outputs": [],
   "source": [
    "df_train_1 = pd.read_csv('data/train_proc.csv', low_memory=False)\n",
    "df_test_1 = pd.read_csv('data/test_proc.csv',low_memory=False)"
   ]
  },
  {
   "cell_type": "code",
   "execution_count": 179,
   "metadata": {
    "collapsed": true
   },
   "outputs": [],
   "source": [
    "folds_generator = GroupKFold()\n",
    "folds_generator = folds_generator.split(df_train_1, groups=df_train_1.customer_id)\n",
    "folds = []\n",
    "for el, er in folds_generator:\n",
    "    folds += [(el, er)]"
   ]
  },
  {
   "cell_type": "code",
   "execution_count": 180,
   "metadata": {
    "collapsed": true
   },
   "outputs": [],
   "source": [
    "useless_columns = ['city', 'country', 'currency', 'customer_id'\n",
    "                , 'home_add_lat', 'home_add_lon'\n",
    "                , 'work_add_lat', 'work_add_lon'\n",
    "                , 'mcc', 'mcc_common'\n",
    "                , 'near_home', 'near_work', 'terminal_id'\n",
    "                , 'trans_pos', 'transaction_date'\n",
    "                , 'tile_n9', 'tile_n15', 'tile_n16', 'tile_n11', 'tile_n14', 'tile_n13', 'tile_n17', 'tile_n12', 'tile_n10']\n",
    "predictors = set(set(df_train_1.columns) - set(useless_columns))\n",
    "\n",
    "# пересечём с тестовыми\n",
    "predictors = list(predictors.intersection(set(df_test_1.columns)))"
   ]
  },
  {
   "cell_type": "code",
   "execution_count": 181,
   "metadata": {
    "collapsed": true
   },
   "outputs": [],
   "source": [
    "predictors.sort()"
   ]
  },
  {
   "cell_type": "code",
   "execution_count": 182,
   "metadata": {},
   "outputs": [
    {
     "data": {
      "text/plain": [
       "['all_trans_cnt',\n",
       " 'amount',\n",
       " 'client_2_tran_lat_meadian',\n",
       " 'client_2_tran_lat_mean',\n",
       " 'client_2_tran_lat_std',\n",
       " 'client_2_tran_lon_mean',\n",
       " 'client_2_tran_lon_median',\n",
       " 'client_2_tran_lon_std',\n",
       " 'day_of_week',\n",
       " 'distance2mean',\n",
       " 'equal_terminals_in_pos',\n",
       " 'is_weekend',\n",
       " 'mcc_common_0_freq',\n",
       " 'mcc_common_10_freq',\n",
       " 'mcc_common_16_freq',\n",
       " 'mcc_common_17_freq',\n",
       " 'mcc_common_18_freq',\n",
       " 'mcc_common_19_freq',\n",
       " 'mcc_common_22_freq',\n",
       " 'mcc_common_26_freq',\n",
       " 'mcc_common_3_freq',\n",
       " 'mcc_common_5_freq',\n",
       " 'mcc_common_6_freq',\n",
       " 'mcc_common_7_freq',\n",
       " 'mcc_group_0',\n",
       " 'mcc_group_10',\n",
       " 'mcc_group_16',\n",
       " 'mcc_group_17',\n",
       " 'mcc_group_18',\n",
       " 'mcc_group_19',\n",
       " 'mcc_group_22',\n",
       " 'mcc_group_26',\n",
       " 'mcc_group_3',\n",
       " 'mcc_group_5',\n",
       " 'mcc_group_6',\n",
       " 'mcc_group_7',\n",
       " 'mcc_group_9',\n",
       " 'near_tile_12_terminal_cnt',\n",
       " 'near_tile_12_trans_cnt',\n",
       " 'near_tile_13_terminal_cnt',\n",
       " 'near_tile_13_trans_cnt',\n",
       " 'near_tile_14_terminal_cnt',\n",
       " 'near_tile_14_trans_cnt',\n",
       " 'near_tile_15_terminal_cnt',\n",
       " 'near_tile_15_trans_cnt',\n",
       " 'near_tile_16_terminal_cnt',\n",
       " 'near_tile_16_trans_cnt',\n",
       " 'tile_10',\n",
       " 'tile_12',\n",
       " 'tile_13',\n",
       " 'tile_14',\n",
       " 'tile_15',\n",
       " 'tile_16',\n",
       " 'tran_lat',\n",
       " 'tran_lon']"
      ]
     },
     "execution_count": 182,
     "metadata": {},
     "output_type": "execute_result"
    }
   ],
   "source": [
    "predictors"
   ]
  },
  {
   "cell_type": "code",
   "execution_count": 183,
   "metadata": {},
   "outputs": [
    {
     "data": {
      "text/plain": [
       "55"
      ]
     },
     "execution_count": 183,
     "metadata": {},
     "output_type": "execute_result"
    }
   ],
   "source": [
    "len(predictors)"
   ]
  },
  {
   "cell_type": "code",
   "execution_count": 184,
   "metadata": {
    "collapsed": true
   },
   "outputs": [],
   "source": [
    "params = {'eta': 0.1,\n",
    "          'objective': 'binary:logistic',\n",
    "          'eval_metric': ['auc'],\n",
    "          'max_depth': 5,\n",
    "          'min_child_weight': 1,\n",
    "          'gamma': 0,\n",
    "          'subsample': 0.8,\n",
    "          'colsample_bytree': 0.8,\n",
    "          'scale_pos_weight': 1,\n",
    "          'seed': 1234}"
   ]
  },
  {
   "cell_type": "code",
   "execution_count": 185,
   "metadata": {
    "collapsed": true
   },
   "outputs": [],
   "source": [
    "# модель для опеределния близости к дому\n",
    "dtrain = xgb.DMatrix(df_train_1[predictors], df_train_1['near_home'])"
   ]
  },
  {
   "cell_type": "code",
   "execution_count": 186,
   "metadata": {},
   "outputs": [],
   "source": [
    "# scores = xgb.cv(params, dtrain, num_boost_round=131, folds=folds, verbose_eval=10)"
   ]
  },
  {
   "cell_type": "code",
   "execution_count": 187,
   "metadata": {
    "collapsed": true
   },
   "outputs": [],
   "source": [
    "def fit(params, X_train, y_train, predictors, num_boost_round=131, pref=\"home\"):\n",
    "    if pref==\"home\":\n",
    "        trans = X_train['home_add_lat'].dropna().index\n",
    "        X_train = X_train.loc[trans]\n",
    "        y_train = y_train.loc[trans]\n",
    "    else:\n",
    "        trans = X_train['work_add_lat'].dropna().index\n",
    "        X_train = X_train.loc[trans]\n",
    "        y_train = y_train.loc[trans]\n",
    "\n",
    "    dtrain = xgb.DMatrix(X_train[predictors], y_train)\n",
    "    model = xgb.train(params, dtrain, num_boost_round=num_boost_round, verbose_eval=10)\n",
    "    return model"
   ]
  },
  {
   "cell_type": "code",
   "execution_count": 188,
   "metadata": {
    "collapsed": true
   },
   "outputs": [],
   "source": [
    "def predict(model, X_test, predictors, pref):\n",
    "    X_test['proba'] = model.predict(xgb.DMatrix(X_test[predictors]))\n",
    "    dict_max_proba = X_test.groupby('customer_id')['proba'].max()\n",
    "    \n",
    "    # оставляем только те транзакции, которые модель посчитала рядом с тагретом\n",
    "    X_test['max_proba' + pref] = X_test['customer_id'].map(dict_max_proba)\n",
    "    X_test = X_test[X_test['proba'] == X_test['max_proba' + pref]]\n",
    "    \n",
    "    # расчитываем таргет как медиану\n",
    "    lat = X_test.groupby('customer_id')['tran_lat'].median()\n",
    "    lon = X_test.groupby('customer_id')['tran_lon'].median()\n",
    "    \n",
    "    lat_name = '_' + str.upper(pref) + '_LAT_'\n",
    "    lon_name = '_' + str.upper(pref) + '_LON_'\n",
    "    predictions = pd.merge(lat.to_frame(lat_name), lon.to_frame(lon_name), right_index=True, left_index=True)\n",
    "    return predictions"
   ]
  },
  {
   "cell_type": "code",
   "execution_count": 189,
   "metadata": {
    "collapsed": true
   },
   "outputs": [],
   "source": [
    "def evaluate(df, predictions, pref):\n",
    "    df = df[df['customer_id'].isin(predictions.index)]\n",
    "    df = df[['customer_id' ,pref + \"_add_lat\", pref +\"_add_lon\"]].drop_duplicates()\n",
    "    customers = df['customer_id'].value_counts()\n",
    "    customers = customers[customers == 1].index\n",
    "    \n",
    "    df = df[df['customer_id'].isin(customers)]\n",
    "    df = df.set_index('customer_id')\n",
    "    res = np.array(df.loc[predictions.index]) - np.array(predictions)\n",
    "    return np.sum(np.sqrt(res[:, 0]**2 + res[:, 1]**2) < 0.02) / res.shape[0]"
   ]
  },
  {
   "cell_type": "code",
   "execution_count": 190,
   "metadata": {},
   "outputs": [
    {
     "name": "stdout",
     "output_type": "stream",
     "text": [
      "home evaluation metrics  0.397720455909\n"
     ]
    }
   ],
   "source": [
    "model_home = fit(params, df_train_1.iloc[folds[0][0]]\n",
    "                       , df_train_1['near_home'].iloc[folds[0][0]]\n",
    "                       , predictors, pref='home')\n",
    "\n",
    "predictions = predict(model_home, df_train_1.iloc[folds[0][1]], predictors, pref = 'home')\n",
    "print ('home evaluation metrics ', evaluate(df_train_1, predictions, pref = 'home'))"
   ]
  },
  {
   "cell_type": "code",
   "execution_count": 191,
   "metadata": {},
   "outputs": [
    {
     "name": "stdout",
     "output_type": "stream",
     "text": [
      "work evaluation_metrics  0.149670065987\n"
     ]
    }
   ],
   "source": [
    "model_work = fit(params, df_train_1.iloc[folds[0][0]]\n",
    "                       , df_train_1['near_work'].iloc[folds[0][0]]\n",
    "                       , predictors, pref='work')\n",
    "\n",
    "predictions = predict(model_work, df_train_1.iloc[folds[0][1]], predictors, pref = 'work')\n",
    "print ('work evaluation_metrics ', evaluate(df_train_1, predictions, pref = 'work'))"
   ]
  },
  {
   "cell_type": "markdown",
   "metadata": {},
   "source": [
    "### Предсказание на тестовых данных"
   ]
  },
  {
   "cell_type": "code",
   "execution_count": 192,
   "metadata": {
    "collapsed": true
   },
   "outputs": [],
   "source": [
    "model_home_all = fit(params, df_train_1, df_train_1['near_home'], predictors, pref='home')\n",
    "preds_home = predict(model_home_all, df_test_1, predictors, pref = 'home')"
   ]
  },
  {
   "cell_type": "code",
   "execution_count": 193,
   "metadata": {},
   "outputs": [
    {
     "name": "stdout",
     "output_type": "stream",
     "text": [
      "home evaluation metrics  0.4179\n"
     ]
    }
   ],
   "source": [
    "predictions_h = predict(model_home_all, df_train_1, predictors, pref = 'home')\n",
    "print ('home evaluation metrics ', evaluate(df_train_1, predictions_h, pref = 'home'))"
   ]
  },
  {
   "cell_type": "code",
   "execution_count": 194,
   "metadata": {
    "collapsed": true
   },
   "outputs": [],
   "source": [
    "# pd.Series(model_home_all.get_fscore()).sort_values(ascending=False).head(50)"
   ]
  },
  {
   "cell_type": "code",
   "execution_count": 195,
   "metadata": {
    "collapsed": true
   },
   "outputs": [],
   "source": [
    "model_work_all = fit(params, df_train_1, df_train_1['near_work'], predictors, pref= 'work')\n",
    "preds_work = predict(model_work_all, df_test_1, predictors, pref = 'work')"
   ]
  },
  {
   "cell_type": "code",
   "execution_count": 196,
   "metadata": {},
   "outputs": [
    {
     "name": "stdout",
     "output_type": "stream",
     "text": [
      "work evaluation metrics  0.1671\n"
     ]
    }
   ],
   "source": [
    "predictions_w = predict(model_work_all, df_train_1, predictors, pref = 'work')\n",
    "print ('work evaluation metrics ', evaluate(df_train_1, predictions_w, pref = 'work'))"
   ]
  },
  {
   "cell_type": "code",
   "execution_count": 197,
   "metadata": {
    "collapsed": true
   },
   "outputs": [],
   "source": [
    "def make_submition(preds_home, preds_work):\n",
    "    df_pr = pd.merge(preds_work,preds_home, left_index=True, right_index=True)\n",
    "    submit = pd.read_csv(\"data/sample.csv\")\n",
    "    df_pr = df_pr.loc[submit['customer_id']].reset_index()\n",
    "    df_pr.columns = ['_ID_', '_WORK_LAT_','_WORK_LON_','_HOME_LAT_','_HOME_LON_']\n",
    "    df_pr.fillna(0, inplace = True)\n",
    "    return df_pr"
   ]
  },
  {
   "cell_type": "code",
   "execution_count": 198,
   "metadata": {
    "collapsed": true
   },
   "outputs": [],
   "source": [
    "predictions_train = pd.concat([predictions_h, predictions_w], axis = 1)"
   ]
  },
  {
   "cell_type": "code",
   "execution_count": 199,
   "metadata": {},
   "outputs": [],
   "source": [
    "df_pr = make_submition(preds_home, preds_work)\n",
    "df_pr['diff'] = np.sqrt((df_pr['_WORK_LAT_']- df_pr['_HOME_LAT_'])**2 +\n",
    "                           (df_pr['_WORK_LON_']- df_pr['_HOME_LON_'])**2)"
   ]
  },
  {
   "cell_type": "code",
   "execution_count": 200,
   "metadata": {},
   "outputs": [
    {
     "data": {
      "text/html": [
       "<div>\n",
       "<style>\n",
       "    .dataframe thead tr:only-child th {\n",
       "        text-align: right;\n",
       "    }\n",
       "\n",
       "    .dataframe thead th {\n",
       "        text-align: left;\n",
       "    }\n",
       "\n",
       "    .dataframe tbody tr th {\n",
       "        vertical-align: top;\n",
       "    }\n",
       "</style>\n",
       "<table border=\"1\" class=\"dataframe\">\n",
       "  <thead>\n",
       "    <tr style=\"text-align: right;\">\n",
       "      <th></th>\n",
       "      <th>_ID_</th>\n",
       "      <th>_WORK_LAT_</th>\n",
       "      <th>_WORK_LON_</th>\n",
       "      <th>_HOME_LAT_</th>\n",
       "      <th>_HOME_LON_</th>\n",
       "      <th>diff</th>\n",
       "    </tr>\n",
       "  </thead>\n",
       "  <tbody>\n",
       "    <tr>\n",
       "      <th>0</th>\n",
       "      <td>00021683ccb416637fe9a4cd35e4606e</td>\n",
       "      <td>55.028000</td>\n",
       "      <td>82.913000</td>\n",
       "      <td>55.037037</td>\n",
       "      <td>82.978493</td>\n",
       "      <td>0.066114</td>\n",
       "    </tr>\n",
       "    <tr>\n",
       "      <th>1</th>\n",
       "      <td>0002d0f8a642272b41c292c12ab6e602</td>\n",
       "      <td>55.739838</td>\n",
       "      <td>37.394714</td>\n",
       "      <td>53.199818</td>\n",
       "      <td>50.173374</td>\n",
       "      <td>13.028655</td>\n",
       "    </tr>\n",
       "    <tr>\n",
       "      <th>2</th>\n",
       "      <td>0004d182d9fede3ba2534b2d5e5ad27e</td>\n",
       "      <td>43.585000</td>\n",
       "      <td>39.723000</td>\n",
       "      <td>43.588963</td>\n",
       "      <td>39.727375</td>\n",
       "      <td>0.005903</td>\n",
       "    </tr>\n",
       "    <tr>\n",
       "      <th>3</th>\n",
       "      <td>0008c2445518c9392cb356c5c3db3392</td>\n",
       "      <td>51.529000</td>\n",
       "      <td>46.019000</td>\n",
       "      <td>51.529017</td>\n",
       "      <td>46.029402</td>\n",
       "      <td>0.010402</td>\n",
       "    </tr>\n",
       "    <tr>\n",
       "      <th>4</th>\n",
       "      <td>000b373cc4969c0be8e0933c08da67e1</td>\n",
       "      <td>56.248314</td>\n",
       "      <td>43.464493</td>\n",
       "      <td>56.233054</td>\n",
       "      <td>43.457591</td>\n",
       "      <td>0.016749</td>\n",
       "    </tr>\n",
       "  </tbody>\n",
       "</table>\n",
       "</div>"
      ],
      "text/plain": [
       "                               _ID_  _WORK_LAT_  _WORK_LON_  _HOME_LAT_  \\\n",
       "0  00021683ccb416637fe9a4cd35e4606e   55.028000   82.913000   55.037037   \n",
       "1  0002d0f8a642272b41c292c12ab6e602   55.739838   37.394714   53.199818   \n",
       "2  0004d182d9fede3ba2534b2d5e5ad27e   43.585000   39.723000   43.588963   \n",
       "3  0008c2445518c9392cb356c5c3db3392   51.529000   46.019000   51.529017   \n",
       "4  000b373cc4969c0be8e0933c08da67e1   56.248314   43.464493   56.233054   \n",
       "\n",
       "   _HOME_LON_       diff  \n",
       "0   82.978493   0.066114  \n",
       "1   50.173374  13.028655  \n",
       "2   39.727375   0.005903  \n",
       "3   46.029402   0.010402  \n",
       "4   43.457591   0.016749  "
      ]
     },
     "execution_count": 200,
     "metadata": {},
     "output_type": "execute_result"
    }
   ],
   "source": [
    "df_pr.head()"
   ]
  },
  {
   "cell_type": "code",
   "execution_count": 201,
   "metadata": {
    "collapsed": true
   },
   "outputs": [],
   "source": [
    "df_pr['customer_id'] = df_pr['_ID_']\n",
    "df_pr = df_pr.set_index('customer_id')"
   ]
  },
  {
   "cell_type": "code",
   "execution_count": 203,
   "metadata": {},
   "outputs": [
    {
     "name": "stdout",
     "output_type": "stream",
     "text": [
      "(53.200317700000006, 50.173874000000005)\n",
      "(55.739337800000001, 37.394213700000002)\n",
      "        home_add_lat  home_add_lon\n",
      "261057           0.0           0.0\n",
      "        work_add_lat  work_add_lon\n",
      "261057           0.0           0.0\n"
     ]
    },
    {
     "data": {
      "text/html": [
       "<div style=\"width:100%;\"><div style=\"position:relative;width:100%;height:0;padding-bottom:60%;\"><iframe src=\"data:text/html;charset=utf-8;base64,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\" style=\"position:absolute;width:100%;height:100%;left:0;top:0;border:none !important;\" allowfullscreen webkitallowfullscreen mozallowfullscreen></iframe></div></div>"
      ],
      "text/plain": [
       "<folium.folium.Map at 0x1b986ff0240>"
      ]
     },
     "execution_count": 203,
     "metadata": {},
     "output_type": "execute_result"
    }
   ],
   "source": [
    "customer = '0002d0f8a642272b41c292c12ab6e602'\n",
    "pr_h,pr_w = get_prediction(customer, df_pr)\n",
    "print (pr_h)\n",
    "print (pr_w)\n",
    "pm.plot_one_person(customer, df_test_1, predicted_home = pr_h, predicted_work = pr_w)"
   ]
  },
  {
   "cell_type": "code",
   "execution_count": 172,
   "metadata": {},
   "outputs": [
    {
     "data": {
      "text/plain": [
       "<module 'plot_maps' from 'C:\\\\kaggle\\\\raif\\\\plot_maps.py'>"
      ]
     },
     "execution_count": 172,
     "metadata": {},
     "output_type": "execute_result"
    }
   ],
   "source": [
    "import imp\n",
    "import plot_maps as pm\n",
    "imp.reload(pm)"
   ]
  },
  {
   "cell_type": "code",
   "execution_count": 162,
   "metadata": {},
   "outputs": [
    {
     "data": {
      "text/html": [
       "<div>\n",
       "<style>\n",
       "    .dataframe thead tr:only-child th {\n",
       "        text-align: right;\n",
       "    }\n",
       "\n",
       "    .dataframe thead th {\n",
       "        text-align: left;\n",
       "    }\n",
       "\n",
       "    .dataframe tbody tr th {\n",
       "        vertical-align: top;\n",
       "    }\n",
       "</style>\n",
       "<table border=\"1\" class=\"dataframe\">\n",
       "  <thead>\n",
       "    <tr style=\"text-align: right;\">\n",
       "      <th></th>\n",
       "      <th>_HOME_LAT_</th>\n",
       "      <th>_HOME_LON_</th>\n",
       "      <th>_WORK_LAT_</th>\n",
       "      <th>_WORK_LON_</th>\n",
       "    </tr>\n",
       "    <tr>\n",
       "      <th>customer_id</th>\n",
       "      <th></th>\n",
       "      <th></th>\n",
       "      <th></th>\n",
       "      <th></th>\n",
       "    </tr>\n",
       "  </thead>\n",
       "  <tbody>\n",
       "    <tr>\n",
       "      <th>ff70c3c5f2dca00f255705305d75111d</th>\n",
       "      <td>59.738523</td>\n",
       "      <td>30.404776</td>\n",
       "      <td>59.931000</td>\n",
       "      <td>30.305000</td>\n",
       "    </tr>\n",
       "    <tr>\n",
       "      <th>ff71bdbcba59047f1fad88dcb7052151</th>\n",
       "      <td>55.646289</td>\n",
       "      <td>37.732466</td>\n",
       "      <td>55.734999</td>\n",
       "      <td>37.752592</td>\n",
       "    </tr>\n",
       "    <tr>\n",
       "      <th>ff7a887d347a8d598dc8e559d3aaec2f</th>\n",
       "      <td>56.360561</td>\n",
       "      <td>43.823411</td>\n",
       "      <td>56.317916</td>\n",
       "      <td>43.925425</td>\n",
       "    </tr>\n",
       "    <tr>\n",
       "      <th>ff7e1c6c07469b28a07847540385e767</th>\n",
       "      <td>55.638199</td>\n",
       "      <td>37.667647</td>\n",
       "      <td>55.741050</td>\n",
       "      <td>37.609963</td>\n",
       "    </tr>\n",
       "    <tr>\n",
       "      <th>ff869ee855dc3f9b382c943eb43cc4ec</th>\n",
       "      <td>55.088369</td>\n",
       "      <td>36.662918</td>\n",
       "      <td>55.124000</td>\n",
       "      <td>36.622000</td>\n",
       "    </tr>\n",
       "    <tr>\n",
       "      <th>ff92d5420f5fb92a37e1280d1fc9e5f4</th>\n",
       "      <td>56.509819</td>\n",
       "      <td>56.081608</td>\n",
       "      <td>56.509819</td>\n",
       "      <td>56.081608</td>\n",
       "    </tr>\n",
       "    <tr>\n",
       "      <th>ffaeae55d4dbf29058f04e7a6a764f02</th>\n",
       "      <td>55.678683</td>\n",
       "      <td>37.853583</td>\n",
       "      <td>55.725538</td>\n",
       "      <td>37.664475</td>\n",
       "    </tr>\n",
       "    <tr>\n",
       "      <th>ffc5289194413ec68c3f7adc8121d69b</th>\n",
       "      <td>55.889313</td>\n",
       "      <td>37.472749</td>\n",
       "      <td>55.731569</td>\n",
       "      <td>37.698358</td>\n",
       "    </tr>\n",
       "    <tr>\n",
       "      <th>ffd097949a4a238296a7deadfb376cc0</th>\n",
       "      <td>55.747000</td>\n",
       "      <td>37.707000</td>\n",
       "      <td>55.785000</td>\n",
       "      <td>37.666000</td>\n",
       "    </tr>\n",
       "    <tr>\n",
       "      <th>ffdd5ec2a90e355cf40525eac1a6fd34</th>\n",
       "      <td>55.934117</td>\n",
       "      <td>37.520084</td>\n",
       "      <td>55.800559</td>\n",
       "      <td>37.596448</td>\n",
       "    </tr>\n",
       "  </tbody>\n",
       "</table>\n",
       "</div>"
      ],
      "text/plain": [
       "                                  _HOME_LAT_  _HOME_LON_  _WORK_LAT_  \\\n",
       "customer_id                                                            \n",
       "ff70c3c5f2dca00f255705305d75111d   59.738523   30.404776   59.931000   \n",
       "ff71bdbcba59047f1fad88dcb7052151   55.646289   37.732466   55.734999   \n",
       "ff7a887d347a8d598dc8e559d3aaec2f   56.360561   43.823411   56.317916   \n",
       "ff7e1c6c07469b28a07847540385e767   55.638199   37.667647   55.741050   \n",
       "ff869ee855dc3f9b382c943eb43cc4ec   55.088369   36.662918   55.124000   \n",
       "ff92d5420f5fb92a37e1280d1fc9e5f4   56.509819   56.081608   56.509819   \n",
       "ffaeae55d4dbf29058f04e7a6a764f02   55.678683   37.853583   55.725538   \n",
       "ffc5289194413ec68c3f7adc8121d69b   55.889313   37.472749   55.731569   \n",
       "ffd097949a4a238296a7deadfb376cc0   55.747000   37.707000   55.785000   \n",
       "ffdd5ec2a90e355cf40525eac1a6fd34   55.934117   37.520084   55.800559   \n",
       "\n",
       "                                  _WORK_LON_  \n",
       "customer_id                                   \n",
       "ff70c3c5f2dca00f255705305d75111d   30.305000  \n",
       "ff71bdbcba59047f1fad88dcb7052151   37.752592  \n",
       "ff7a887d347a8d598dc8e559d3aaec2f   43.925425  \n",
       "ff7e1c6c07469b28a07847540385e767   37.609963  \n",
       "ff869ee855dc3f9b382c943eb43cc4ec   36.622000  \n",
       "ff92d5420f5fb92a37e1280d1fc9e5f4   56.081608  \n",
       "ffaeae55d4dbf29058f04e7a6a764f02   37.664475  \n",
       "ffc5289194413ec68c3f7adc8121d69b   37.698358  \n",
       "ffd097949a4a238296a7deadfb376cc0   37.666000  \n",
       "ffdd5ec2a90e355cf40525eac1a6fd34   37.596448  "
      ]
     },
     "execution_count": 162,
     "metadata": {},
     "output_type": "execute_result"
    }
   ],
   "source": [
    "predictions_train.tail(10)"
   ]
  },
  {
   "cell_type": "code",
   "execution_count": 159,
   "metadata": {
    "collapsed": true
   },
   "outputs": [],
   "source": [
    "def get_prediction(customer_id, predictions):\n",
    "    row = predictions[predictions.index== customer_id]\n",
    "    pred_home = (row.iloc[0]['_HOME_LAT_'] + 0.0005,row.iloc[0]['_HOME_LON_'] + 0.0005)\n",
    "    pred_work = (row.iloc[0]['_WORK_LAT_'] - 0.0005,row.iloc[0]['_WORK_LON_'] - 0.0005)\n",
    "    return pred_home,pred_work "
   ]
  },
  {
   "cell_type": "code",
   "execution_count": 214,
   "metadata": {},
   "outputs": [],
   "source": [
    "tr = df_train_1[df_train_1.customer_id == 'ffc5289194413ec68c3f7adc8121d69b']\n",
    "tr = tr[['terminal_id','tran_lat','tran_lon', 'mcc_common']]"
   ]
  },
  {
   "cell_type": "code",
   "execution_count": 215,
   "metadata": {},
   "outputs": [],
   "source": [
    "#tr.groupby(['terminal_id'])['terminal_id'].count().reset_index(name = 'cnt')"
   ]
  },
  {
   "cell_type": "code",
   "execution_count": 217,
   "metadata": {},
   "outputs": [
    {
     "name": "stdout",
     "output_type": "stream",
     "text": [
      "(55.747500000000002, 37.707500000000003)\n",
      "(55.784499999999994, 37.665499999999994)\n",
      "      home_add_lat  home_add_lon\n",
      "9875        55.796        37.740\n",
      "9876        55.796        37.745\n",
      "      work_add_lat  work_add_lon\n",
      "9875        55.754        37.526\n"
     ]
    },
    {
     "data": {
      "text/html": [
       "<div style=\"width:100%;\"><div style=\"position:relative;width:100%;height:0;padding-bottom:60%;\"><iframe src=\"data:text/html;charset=utf-8;base64,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\" style=\"position:absolute;width:100%;height:100%;left:0;top:0;border:none !important;\" allowfullscreen webkitallowfullscreen mozallowfullscreen></iframe></div></div>"
      ],
      "text/plain": [
       "<folium.folium.Map at 0x1b98ceec7f0>"
      ]
     },
     "execution_count": 217,
     "metadata": {},
     "output_type": "execute_result"
    }
   ],
   "source": [
    "customer = 'ffd097949a4a238296a7deadfb376cc0'\n",
    "pr_h,pr_w = get_prediction(customer, predictions_train)\n",
    "print (pr_h)\n",
    "print (pr_w)\n",
    "\n",
    "pm.plot_one_person(customer, df_train_1, predicted_home = pr_h, predicted_work = pr_w)"
   ]
  },
  {
   "cell_type": "code",
   "execution_count": null,
   "metadata": {
    "collapsed": true
   },
   "outputs": [],
   "source": [
    "df_pr.to_csv('predictions/pred_26-02-18-3.csv', index = None)"
   ]
  },
  {
   "cell_type": "code",
   "execution_count": null,
   "metadata": {
    "collapsed": true
   },
   "outputs": [],
   "source": [
    "df_test_1[df_test_1.customer_id == '6d8045c0917ec26242fd039d2f0c1dec'][['tran_lat', 'tran_lon']]"
   ]
  },
  {
   "cell_type": "code",
   "execution_count": null,
   "metadata": {
    "collapsed": true
   },
   "outputs": [],
   "source": [
    "df = pd.read_csv('predictions/pred_26-02-18-3.csv')\n",
    "df.head(20)"
   ]
  },
  {
   "cell_type": "code",
   "execution_count": null,
   "metadata": {
    "collapsed": true
   },
   "outputs": [],
   "source": [
    "df = pd.read_csv('predictions/pred_26-02-18-2.csv')\n",
    "df"
   ]
  },
  {
   "cell_type": "code",
   "execution_count": null,
   "metadata": {
    "collapsed": true
   },
   "outputs": [],
   "source": []
  }
 ],
 "metadata": {
  "kernelspec": {
   "display_name": "Python 3",
   "language": "python",
   "name": "python3"
  },
  "language_info": {
   "codemirror_mode": {
    "name": "ipython",
    "version": 3
   },
   "file_extension": ".py",
   "mimetype": "text/x-python",
   "name": "python",
   "nbconvert_exporter": "python",
   "pygments_lexer": "ipython3",
   "version": "3.6.2"
  }
 },
 "nbformat": 4,
 "nbformat_minor": 2
}
